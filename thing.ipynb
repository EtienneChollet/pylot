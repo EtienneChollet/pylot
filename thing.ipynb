{
 "cells": [
  {
   "cell_type": "code",
   "execution_count": 7,
   "id": "c67c5aca",
   "metadata": {},
   "outputs": [],
   "source": [
    "from typing import Union\n",
    "from pylot.util.config import HDict, FHDict, ImmutableConfig, config_digest\n",
    "import pathlib"
   ]
  },
  {
   "cell_type": "code",
   "execution_count": 11,
   "id": "b89bf9b0",
   "metadata": {},
   "outputs": [],
   "source": [
    "def ensure_rootdir_in_config(config) -> HDict:\n",
    "    \"\"\"\n",
    "    Ensure the root directory exists in the configuration dictionary\n",
    "    \"\"\"\n",
    "\n",
    "    # Make a default root for the experiment\n",
    "    default_experiment_root = 'pylot_experiments'\n",
    "\n",
    "    # Make sure there's a valid root directory for the experiments\n",
    "    if \"log\" not in config:\n",
    "        # Set the root\n",
    "        config[\"log\"] = {\"root\": default_experiment_root}\n",
    "\n",
    "    if \"root\" not in config[\"log\"]:\n",
    "        config['log.root'] = default_experiment_root\n",
    "\n",
    "    return config"
   ]
  },
  {
   "cell_type": "code",
   "execution_count": null,
   "id": "a2a1c7a2",
   "metadata": {},
   "outputs": [
    {
     "data": {
      "text/plain": [
       "ImmutableConfig({'a': [1, 2, 3], 'person': {'name': 'eti'}, 'log': {'root': 'pylot_experiments'}})"
      ]
     },
     "execution_count": 14,
     "metadata": {},
     "output_type": "execute_result"
    }
   ],
   "source": [
    "def get_config(\n",
    "    config: Union[dict, HDict, str, pathlib.Path]\n",
    ") -> HDict:\n",
    "\n",
    "    if isinstance(config, (dict, ImmutableConfig)):\n",
    "        config = HDict(config)\n",
    "\n",
    "    elif isinstance(config, (str, pathlib.Path)):\n",
    "        config = HDict.from_file(config)# .to_dict()\n",
    "\n",
    "    else:\n",
    "        pass\n",
    "        #logger.error(\n",
    "        #    'Do not know how to handle config with passed config of type '\n",
    "        #    f'{type(config)}'\n",
    "        #)\n",
    "\n",
    "    # some other processing...\n",
    "    config = ensure_rootdir_in_config(config)\n",
    "\n",
    "    return ImmutableConfig(config)\n",
    "\n",
    "\n",
    "dic = {\n",
    "    'a': [1, 2, 3],\n",
    "    'person': {\n",
    "        'name': 'eti'\n",
    "    }\n",
    "}\n",
    "\n",
    "imm = ImmutableConfig(dic)\n",
    "\n",
    "path = '/autofs/cluster/dalcalab2/users/epc28/projects/interseg3d/output/multiverseg/20250603_171245-301863b7a3618ac6e615a543b61039ae-PALE-ZIP/config.yml'\n",
    "\n",
    "config = get_config(imm)\n",
    "config"
   ]
  },
  {
   "cell_type": "code",
   "execution_count": null,
   "id": "b1ce3855",
   "metadata": {},
   "outputs": [],
   "source": [
    "\n",
    "def make_experiment_id(\n",
    "    config: Union[dict, HDict, str, pathlib.Path],\n",
    "    logger=None,\n",
    "):\n",
    "    # Generate names for unique identifier of experimental run\n",
    "    created_timestamp, random_suffix = generate_tuid()\n",
    "    digest = config_digest(config)\n",
    "\n",
    "    # Generate the (unique) name for the experiment run.\n",
    "    make_experiment_id = f\"{created_timestamp}-{digest}-{random_suffix}\"\n",
    "\n",
    "    if logger is not None:\n",
    "        logger.info(\n",
    "            f'Made unique identifier for experiment: \"{make_experiment_id}\"'\n",
    "        )\n",
    "\n",
    "    return make_experiment_id"
   ]
  },
  {
   "cell_type": "code",
   "execution_count": null,
   "id": "9d1988c7",
   "metadata": {},
   "outputs": [],
   "source": [
    "class BaseExperiment:\n",
    "\n",
    "    def __init__(\n",
    "        self,\n",
    "        path: str,\n",
    "    ):\n",
    "        pass\n",
    "\n",
    "    def __post_init__(self):\n",
    "        # Make exp ID\n",
    "\n",
    "    def from_config(path):\n",
    "        # Load config\n",
    "        # Ensure it has a root dir\n"
   ]
  }
 ],
 "metadata": {
  "kernelspec": {
   "display_name": "Python 3",
   "language": "python",
   "name": "python3"
  },
  "language_info": {
   "codemirror_mode": {
    "name": "ipython",
    "version": 3
   },
   "file_extension": ".py",
   "mimetype": "text/x-python",
   "name": "python",
   "nbconvert_exporter": "python",
   "pygments_lexer": "ipython3",
   "version": "3.12.10"
  }
 },
 "nbformat": 4,
 "nbformat_minor": 5
}
