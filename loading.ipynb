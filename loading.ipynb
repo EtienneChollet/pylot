{
 "cells": [
  {
   "cell_type": "code",
   "execution_count": 1,
   "id": "93985a73",
   "metadata": {},
   "outputs": [],
   "source": [
    "from pylot.util.metrics import MetricsDict"
   ]
  },
  {
   "cell_type": "code",
   "execution_count": 10,
   "id": "48c56bba",
   "metadata": {},
   "outputs": [
    {
     "data": {
      "text/plain": [
       "MetricsDict('/autofs/cluster/dalcalab2/users/epc28/projects/interseg3d/output/multiverseg/20250603_171245-301863b7a3618ac6e615a543b61039ae-PALE-ZIP')"
      ]
     },
     "execution_count": 10,
     "metadata": {},
     "output_type": "execute_result"
    }
   ],
   "source": [
    "path = '/autofs/cluster/dalcalab2/users/epc28/projects/interseg3d/output/multiverseg/20250603_171245-301863b7a3618ac6e615a543b61039ae-PALE-ZIP'\n",
    "\n",
    "MetricsDict(path)"
   ]
  },
  {
   "cell_type": "code",
   "execution_count": null,
   "id": "e51802a3",
   "metadata": {},
   "outputs": [],
   "source": []
  }
 ],
 "metadata": {
  "kernelspec": {
   "display_name": "Python 3",
   "language": "python",
   "name": "python3"
  },
  "language_info": {
   "codemirror_mode": {
    "name": "ipython",
    "version": 3
   },
   "file_extension": ".py",
   "mimetype": "text/x-python",
   "name": "python",
   "nbconvert_exporter": "python",
   "pygments_lexer": "ipython3",
   "version": "3.12.10"
  }
 },
 "nbformat": 4,
 "nbformat_minor": 5
}
